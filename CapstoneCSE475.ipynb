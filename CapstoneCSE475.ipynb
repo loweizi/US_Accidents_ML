{
  "nbformat": 4,
  "nbformat_minor": 0,
  "metadata": {
    "colab": {
      "provenance": [],
      "mount_file_id": "12eRSc_GLLEKc3oHu4Yt61YUO17yk6hfQ",
      "authorship_tag": "ABX9TyOn3e9YxWXc2O0lOQZTAj/I",
      "include_colab_link": true
    },
    "kernelspec": {
      "name": "python3",
      "display_name": "Python 3"
    },
    "language_info": {
      "name": "python"
    }
  },
  "cells": [
    {
      "cell_type": "markdown",
      "metadata": {
        "id": "view-in-github",
        "colab_type": "text"
      },
      "source": [
        "<a href=\"https://colab.research.google.com/github/loweizi/US_Accidents_ML/blob/main/CapstoneCSE475.ipynb\" target=\"_parent\"><img src=\"https://colab.research.google.com/assets/colab-badge.svg\" alt=\"Open In Colab\"/></a>"
      ]
    },
    {
      "cell_type": "markdown",
      "source": [
        "# Milestone 1: Data Preparation Report"
      ],
      "metadata": {
        "id": "Nnj9VQOVIHlS"
      }
    },
    {
      "cell_type": "markdown",
      "source": [
        "The dataset I have chosen to conduct analysis on is \"[US Accidents (2016-2023)](https://www.kaggle.com/datasets/sobhanmoosavi/us-accidents/data)\". I found this dataset on Kaggle which contained 7.7 million car accident records ranging from Feb 2016 to March 2023 across 49 states. However, I am not using the dataset that contains 7.7 milllion records, but a sampled size version of the dataset that contains 500,000 records instead.\n",
        "\n",
        "With this dataset, I aim to analyze what factors lead to car accidents such as location and weather conditions. Using machine learning, I'm hoping to be able to predict the likelyhood of accidents with these factors in mind."
      ],
      "metadata": {
        "id": "d07xo0qfTgcV"
      }
    },
    {
      "cell_type": "code",
      "source": [
        "#import required libraries\n",
        "import pandas as pd\n",
        "import seaborn as sns\n",
        "import matplotlib.pyplot as plt\n",
        "\n",
        "#imported my dataset from kagglehub, link: https://www.kaggle.com/datasets/sobhanmoosavi/us-accidents/data\n",
        "#used the 500k sample sized dataset: https://drive.google.com/file/d/1U3u8QYzLjnEaSurtZfSAS_oh9AT2Mn8X\n",
        "import kagglehub\n",
        "\n",
        "#load the dataset\n",
        "accidents = pd.read_csv('/root/.cache/kagglehub/datasets/US_Accidents_March23_sampled_500k.csv')\n",
        "\n",
        "#view the first few rows\n",
        "print(\"-----------------------------------------------------------------------\")\n",
        "print(\"Displaying First Few Rows: \\n\")\n",
        "print(accidents.head())\n",
        "\n",
        "#categorizing the variables\n",
        "#get variable types and unique values\n",
        "print(\"-----------------------------------------------------------------------\")\n",
        "print(\"\\nDisplaying Variable Types and Unique Values\")\n",
        "\n",
        "variable_types = accidents.dtypes\n",
        "#makes it easier for me to clean the data later if i classify it now\n",
        "variable_classification = [\"Categorical\" if dtype not in ['int64', 'float64'] else \"Continuous\" for dtype in variable_types]\n",
        "\n",
        "unique_values = accidents.nunique()\n",
        "\n",
        "#setting up how the summary looks\n",
        "print(\"\\nSummary and Unique Values: \\n\")\n",
        "variable_summary = pd.DataFrame({\n",
        "    'Type': variable_types,\n",
        "    'Unique Values': unique_values,\n",
        "    'Classification': variable_classification\n",
        "})\n",
        "print(variable_summary)"
      ],
      "metadata": {
        "colab": {
          "base_uri": "https://localhost:8080/"
        },
        "collapsed": true,
        "id": "36ErA_wfIPEq",
        "outputId": "357e7a97-7d4d-461d-a58d-0afec96b4f48"
      },
      "execution_count": 19,
      "outputs": [
        {
          "output_type": "stream",
          "name": "stdout",
          "text": [
            "-----------------------------------------------------------------------\n",
            "Displaying First Few Rows: \n",
            "\n",
            "          ID   Source  Severity                     Start_Time  \\\n",
            "0  A-2047758  Source2         2            2019-06-12 10:10:56   \n",
            "1  A-4694324  Source1         2  2022-12-03 23:37:14.000000000   \n",
            "2  A-5006183  Source1         2  2022-08-20 13:13:00.000000000   \n",
            "3  A-4237356  Source1         2            2022-02-21 17:43:04   \n",
            "4  A-6690583  Source1         2            2020-12-04 01:46:00   \n",
            "\n",
            "                        End_Time  Start_Lat   Start_Lng    End_Lat  \\\n",
            "0            2019-06-12 10:55:58  30.641211  -91.153481        NaN   \n",
            "1  2022-12-04 01:56:53.000000000  38.990562  -77.399070  38.990037   \n",
            "2  2022-08-20 15:22:45.000000000  34.661189 -120.492822  34.661189   \n",
            "3            2022-02-21 19:43:23  43.680592  -92.993317  43.680574   \n",
            "4            2020-12-04 04:13:09  35.395484 -118.985176  35.395476   \n",
            "\n",
            "      End_Lng  Distance(mi)  ... Roundabout Station   Stop Traffic_Calming  \\\n",
            "0         NaN         0.000  ...      False   False  False           False   \n",
            "1  -77.398282         0.056  ...      False   False  False           False   \n",
            "2 -120.492442         0.022  ...      False   False  False           False   \n",
            "3  -92.972223         1.054  ...      False   False  False           False   \n",
            "4 -118.985995         0.046  ...      False   False  False           False   \n",
            "\n",
            "  Traffic_Signal Turning_Loop Sunrise_Sunset Civil_Twilight Nautical_Twilight  \\\n",
            "0           True        False            Day            Day               Day   \n",
            "1          False        False          Night          Night             Night   \n",
            "2           True        False            Day            Day               Day   \n",
            "3          False        False            Day            Day               Day   \n",
            "4          False        False          Night          Night             Night   \n",
            "\n",
            "  Astronomical_Twilight  \n",
            "0                   Day  \n",
            "1                 Night  \n",
            "2                   Day  \n",
            "3                   Day  \n",
            "4                 Night  \n",
            "\n",
            "[5 rows x 46 columns]\n",
            "-----------------------------------------------------------------------\n",
            "\n",
            "Displaying Variable Types and Unique Values\n",
            "\n",
            "Summary and Unique Values: \n",
            "\n",
            "                          Type  Unique Values Classification\n",
            "ID                      object         500000    Categorical\n",
            "Source                  object              3    Categorical\n",
            "Severity                 int64              4     Continuous\n",
            "Start_Time              object         487027    Categorical\n",
            "End_Time                object         493821    Categorical\n",
            "Start_Lat              float64         368965     Continuous\n",
            "Start_Lng              float64         370195     Continuous\n",
            "End_Lat                float64         220333     Continuous\n",
            "End_Lng                float64         221463     Continuous\n",
            "Distance(mi)           float64          10627     Continuous\n",
            "Description             object         408146    Categorical\n",
            "Street                  object          88272    Categorical\n",
            "City                    object           9488    Categorical\n",
            "County                  object           1606    Categorical\n",
            "State                   object             49    Categorical\n",
            "Zipcode                 object         127804    Categorical\n",
            "Country                 object              1    Categorical\n",
            "Timezone                object              4    Categorical\n",
            "Airport_Code            object           1878    Categorical\n",
            "Weather_Timestamp       object         255623    Categorical\n",
            "Temperature(F)         float64            712     Continuous\n",
            "Wind_Chill(F)          float64            797     Continuous\n",
            "Humidity(%)            float64            100     Continuous\n",
            "Pressure(in)           float64            980     Continuous\n",
            "Visibility(mi)         float64             65     Continuous\n",
            "Wind_Direction          object             24    Categorical\n",
            "Wind_Speed(mph)        float64             95     Continuous\n",
            "Precipitation(in)      float64            175     Continuous\n",
            "Weather_Condition       object            108    Categorical\n",
            "Amenity                   bool              2    Categorical\n",
            "Bump                      bool              2    Categorical\n",
            "Crossing                  bool              2    Categorical\n",
            "Give_Way                  bool              2    Categorical\n",
            "Junction                  bool              2    Categorical\n",
            "No_Exit                   bool              2    Categorical\n",
            "Railway                   bool              2    Categorical\n",
            "Roundabout                bool              2    Categorical\n",
            "Station                   bool              2    Categorical\n",
            "Stop                      bool              2    Categorical\n",
            "Traffic_Calming           bool              2    Categorical\n",
            "Traffic_Signal            bool              2    Categorical\n",
            "Turning_Loop              bool              1    Categorical\n",
            "Sunrise_Sunset          object              2    Categorical\n",
            "Civil_Twilight          object              2    Categorical\n",
            "Nautical_Twilight       object              2    Categorical\n",
            "Astronomical_Twilight   object              2    Categorical\n"
          ]
        }
      ]
    },
    {
      "cell_type": "code",
      "source": [
        "#univariate analysis\n",
        "\n",
        "#dataframes for categorical and continuous datatypes\n",
        "cate = accidents.select_dtypes(exclude=['int64', 'float64'])\n",
        "cont = accidents.select_dtypes(include=['int64', 'float64'])\n",
        "\n",
        "#stats\n",
        "print(\"-----------------------------------------------------------------------\")\n",
        "print(\"Descriptive Statistics: \\n\")\n",
        "print(cont.describe())\n",
        "print(\"\\n\")\n",
        "print(cate.value_counts())\n",
        "\n",
        "#visualizations & interpretations"
      ],
      "metadata": {
        "colab": {
          "base_uri": "https://localhost:8080/"
        },
        "collapsed": true,
        "id": "MidcD2RPZA4M",
        "outputId": "5a2356e4-6f94-4e1e-8fca-2dc303361d22"
      },
      "execution_count": 20,
      "outputs": [
        {
          "output_type": "stream",
          "name": "stdout",
          "text": [
            "-----------------------------------------------------------------------\n",
            "Descriptive Statistics: \n",
            "\n",
            "            Severity      Start_Lat      Start_Lng        End_Lat  \\\n",
            "count  500000.000000  500000.000000  500000.000000  279623.000000   \n",
            "mean        2.212748      36.206421     -94.736583      36.273192   \n",
            "std         0.486661       5.071411      17.405761       5.265333   \n",
            "min         1.000000      24.562117    -124.497420      24.570110   \n",
            "25%         2.000000      33.416823    -117.233047      33.474773   \n",
            "50%         2.000000      35.832147     -87.794365      36.192669   \n",
            "75%         2.000000      40.082443     -80.359601      40.181341   \n",
            "max         4.000000      48.999569     -67.484130      48.998901   \n",
            "\n",
            "             End_Lng   Distance(mi)  Temperature(F)  Wind_Chill(F)  \\\n",
            "count  279623.000000  500000.000000   489534.000000  370983.000000   \n",
            "mean      -95.776553       0.564317       61.646254      58.229028   \n",
            "std        18.120211       1.774872       19.000133      22.352246   \n",
            "min      -124.497419       0.000000      -77.800000     -53.200000   \n",
            "25%      -117.778324       0.000000       49.000000      43.000000   \n",
            "50%       -88.039013       0.029000       64.000000      62.000000   \n",
            "75%       -80.252449       0.465000       76.000000      75.000000   \n",
            "max       -67.484130     193.479996      207.000000     207.000000   \n",
            "\n",
            "         Humidity(%)   Pressure(in)  Visibility(mi)  Wind_Speed(mph)  \\\n",
            "count  488870.000000  491072.000000   488709.000000    463013.000000   \n",
            "mean       64.834921      29.536621        9.091540         7.681347   \n",
            "std        22.826158       1.008666        2.708083         5.431361   \n",
            "min         1.000000       0.120000        0.000000         0.000000   \n",
            "25%        48.000000      29.370000       10.000000         4.600000   \n",
            "50%        67.000000      29.860000       10.000000         7.000000   \n",
            "75%        84.000000      30.030000       10.000000        10.400000   \n",
            "max       100.000000      38.440000      130.000000       822.800000   \n",
            "\n",
            "       Precipitation(in)  \n",
            "count      357384.000000  \n",
            "mean            0.008289  \n",
            "std             0.101865  \n",
            "min             0.000000  \n",
            "25%             0.000000  \n",
            "50%             0.000000  \n",
            "75%             0.000000  \n",
            "max            10.130000  \n",
            "\n",
            "\n",
            "ID         Source   Start_Time           End_Time             Description                                                                                                     Street              City         County                State  Zipcode     Country  Timezone    Airport_Code  Weather_Timestamp    Wind_Direction  Weather_Condition  Amenity  Bump   Crossing  Give_Way  Junction  No_Exit  Railway  Roundabout  Station  Stop   Traffic_Calming  Traffic_Signal  Turning_Loop  Sunrise_Sunset  Civil_Twilight  Nautical_Twilight  Astronomical_Twilight\n",
            "A-1000009  Source2  2021-06-17 08:09:19  2021-06-17 09:23:35  Right hand shoulder closed due to accident on I-66 Westbound after VA-123 Chain Bridge Rd.                      I-66 W              Fairfax      Fairfax County        VA     22030       US       US/Eastern  KIAD          2021-06-17 07:52:00  VAR             Fair               False    False  False     False     False     False    False    False       False    False  False            False           False         Day             Day             Day                Day                      1\n",
            "A-5674211  Source1  2021-05-28 18:41:30  2021-05-28 19:03:30  Stationary traffic on County Hwy-V57 - County Hwy-60 from Long Grove Rd to N Ela Rd / Cuba Rd due to accident.  Ela Rd              Barrington   Lake                  IL     60010       US       US/Central  KPWK          2021-05-28 18:52:00  N               Light Rain         False    False  False     False     False     False    False    False       False    False  False            False           False         Day             Day             Day                Day                      1\n",
            "A-5674471  Source1  2021-11-12 13:26:00  2021-11-12 14:41:43  Incident on N US-27 near BONNIE HEATH BLVD Expect delays.                                                        Bonnie Heath Blvd  Ocala        Marion                FL     34482-6778  US       US/Eastern  KOCF          2021-11-12 13:51:00  ESE             Partly Cloudy      False    False  False     False     False     False    False    False       False    False  False            False           False         Day             Day             Day                Day                      1\n",
            "A-5674437  Source1  2021-11-06 16:51:53  2021-11-06 17:45:37  Slow traffic on I-20 W - GA-402 W from Maynard Ter/Exit 61 (I-20) to Hill St/Exit 58 (I-20) due to accident.    GA-402 W            Atlanta      Fulton                GA     30316       US       US/Eastern  KATL          2021-11-06 16:52:00  NW              Mostly Cloudy      False    False  False     False     False     False    False    False       False    False  False            False           False         Day             Day             Day                Day                      1\n",
            "A-5674401  Source1  2021-07-21 16:05:00  2021-07-21 17:20:38  Incident on MOBILE HWY near TONAWANDA DR Drive with caution.                                                     Mobile Hwy         Pensacola    Escambia              FL     32506-3571  US       US/Central  KNPA          2021-07-21 15:56:00  SSW             Partly Cloudy      False    False  False     False     False     False    False    False       False    False  False            False           False         Day             Day             Day                Day                      1\n",
            "                                                                                                                                                                                                                                                                                                                                                                                                                                                                                                                                                                         ..\n",
            "A-3298712  Source2  2017-09-11 14:43:21  2017-09-11 15:43:07  Accident on PA-116 York Rd at SR 3045 Smith Station Rd.                                                         York Rd             Hanover      York                  PA     17331-6895  US       US/Eastern  KTHV          2017-09-11 14:53:00  Calm            Clear              False    False  False     False     False     False    False    False       False    True   False            False           False         Day             Day             Day                Day                      1\n",
            "A-3298710  Source2  2017-09-11 14:16:40  2017-09-11 15:01:26  Accident on I-83 Southbound at Exit 28 PA-295 Susquehanna Trl.                                                  I-83 N              York         York                  PA     17406       US       US/Eastern  KMDT          2017-09-11 13:56:00  South           Mostly Cloudy      False    False  False     False     False     False    False    False       False    False  False            False           False         Day             Day             Day                Day                      1\n",
            "A-3298705  Source2  2017-09-11 13:34:16  2017-09-11 14:33:55  Accident on PA-72 Queen St at PA-462 Orange St.                                                                 N Queen St          Lancaster    Lancaster             PA     17603-3816  US       US/Eastern  KLNS          2017-09-11 13:53:00  Calm            Clear              True     False  True      False     False     False    False    False       False    False  False            True            False         Day             Day             Day                Day                      1\n",
            "A-3298703  Source2  2017-09-11 13:21:25  2017-09-11 14:21:13  Accident on Huyard Rd at Railroad Ave.                                                                          E Huyard Rd         New Holland  Lancaster             PA     17557-9372  US       US/Eastern  KLNS          2017-09-11 12:53:00  Calm            Clear              False    False  False     False     False     False    False    False       False    False  False            False           False         Day             Day             Day                Day                      1\n",
            "A-999987   Source2  2021-06-17 06:20:00  2021-06-17 07:19:29  Accident on DC-295 Southbound at I-695 .                                                                        Anacostia Fwy N     Washington   District of Columbia  DC     20020       US       US/Eastern  KWBC          2021-06-17 05:56:00  NW              Fair               False    False  False     False     False     False    False    False       False    False  False            False           False         Day             Day             Day                Day                      1\n",
            "Name: count, Length: 484354, dtype: int64\n"
          ]
        }
      ]
    }
  ]
}